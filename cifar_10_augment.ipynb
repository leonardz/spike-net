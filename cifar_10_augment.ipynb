{
 "cells": [
  {
   "cell_type": "code",
   "execution_count": 1,
   "metadata": {
    "collapsed": false
   },
   "outputs": [],
   "source": [
    "import pickle\n",
    "import tensorflow as tf\n",
    "import matplotlib.pyplot as plt\n",
    "import numpy as np\n",
    "%matplotlib inline"
   ]
  },
  {
   "cell_type": "code",
   "execution_count": 2,
   "metadata": {
    "collapsed": false
   },
   "outputs": [],
   "source": [
    "with open('cifar-10-batches-py/data_batch_1', 'rb') as f:\n",
    "    dict1 = pickle.load(f, encoding='latin1')\n",
    "    \n",
    "with open('cifar-10-batches-py/data_batch_2', 'rb') as f:\n",
    "    dict2 = pickle.load(f, encoding='latin1')\n",
    "    \n",
    "with open('cifar-10-batches-py/data_batch_3', 'rb') as f:\n",
    "    dict3 = pickle.load(f, encoding='latin1')\n",
    "    \n",
    "with open('cifar-10-batches-py/data_batch_4', 'rb') as f:\n",
    "    dict4 = pickle.load(f, encoding='latin1')\n",
    "    \n",
    "with open('cifar-10-batches-py/data_batch_5', 'rb') as f:\n",
    "    dict5 = pickle.load(f, encoding='latin1')"
   ]
  },
  {
   "cell_type": "code",
   "execution_count": 3,
   "metadata": {
    "collapsed": false
   },
   "outputs": [],
   "source": [
    "images1 = dict1['data'].reshape((-1,3,32,32)).transpose(0,2,3,1)\n",
    "images2 = dict2['data'].reshape((-1,3,32,32)).transpose(0,2,3,1)\n",
    "images3 = dict3['data'].reshape((-1,3,32,32)).transpose(0,2,3,1)\n",
    "images4 = dict4['data'].reshape((-1,3,32,32)).transpose(0,2,3,1)\n",
    "images5 = dict5['data'].reshape((-1,3,32,32)).transpose(0,2,3,1)"
   ]
  },
  {
   "cell_type": "code",
   "execution_count": 4,
   "metadata": {
    "collapsed": false
   },
   "outputs": [
    {
     "data": {
      "image/png": "[encoded data removed]",
      "text/plain": [
       "<matplotlib.figure.Figure at 0x7f62533ee5c0>"
      ]
     },
     "metadata": {},
     "output_type": "display_data"
    }
   ],
   "source": [
    "im = images3[200]\n",
    "\n",
    "plt.imshow(im, interpolation=\"nearest\")\n",
    "plt.show()"
   ]
  },
  {
   "cell_type": "code",
   "execution_count": 5,
   "metadata": {
    "collapsed": false
   },
   "outputs": [
    {
     "data": {
      "image/png": "[encoded data removed]",
      "text/plain": [
       "<matplotlib.figure.Figure at 0x7f624fcd2908>"
      ]
     },
     "metadata": {},
     "output_type": "display_data"
    }
   ],
   "source": [
    "im_flip = np.fliplr(im)\n",
    "\n",
    "plt.imshow(im_flip, interpolation=\"nearest\")\n",
    "plt.show()"
   ]
  },
  {
   "cell_type": "code",
   "execution_count": 10,
   "metadata": {
    "collapsed": false
   },
   "outputs": [
    {
     "data": {
      "image/png": "[encoded data removed]",
      "text/plain": [
       "<matplotlib.figure.Figure at 0x7f624fa80748>"
      ]
     },
     "metadata": {},
     "output_type": "display_data"
    }
   ],
   "source": [
    "images_flip = np.flip(images3, axis=2)\n",
    "\n",
    "plt.imshow(images_flip[200], interpolation=\"nearest\")\n",
    "plt.show()"
   ]
  },
  {
   "cell_type": "code",
   "execution_count": 24,
   "metadata": {
    "collapsed": false
   },
   "outputs": [],
   "source": [
    "with open('cifar-10-batches-py/data_batch_1', 'rb') as f:\n",
    "    dict1 = pickle.load(f, encoding='latin1')\n",
    "\n",
    "with open('cifar-10-batches-py/data_batch_2', 'rb') as f:\n",
    "    dict2 = pickle.load(f, encoding='latin1')\n",
    "\n",
    "with open('cifar-10-batches-py/data_batch_3', 'rb') as f:\n",
    "    dict3 = pickle.load(f, encoding='latin1')\n",
    "\n",
    "with open('cifar-10-batches-py/data_batch_4', 'rb') as f:\n",
    "    dict4 = pickle.load(f, encoding='latin1')\n",
    "\n",
    "with open('cifar-10-batches-py/data_batch_5', 'rb') as f:\n",
    "    dict5 = pickle.load(f, encoding='latin1')\n",
    "\n",
    "num_classes = 10\n",
    "\n",
    "x = np.concatenate((dict1['data'], dict2['data'], dict3['data'], dict4['data'], dict5['data']))\n",
    "\n",
    "x_images = x.reshape((-1, 3, 32, 32)).transpose(0, 2, 3, 1)\n",
    "x_flipped = np.flip(x_images, axis=2)\n",
    "\n",
    "x = np.concatenate((x_images, x_flipped))\n",
    "\n",
    "y_orig = np.concatenate((dict1['labels'], dict2['labels'], dict3['labels'], dict4['labels'], dict5['labels']))\n",
    "\n",
    "y_one_hot = np.zeros((len(y_orig), num_classes))\n",
    "y_one_hot[np.arange(len(y_orig)), y_orig] = 1\n",
    "\n",
    "y = np.concatenate((y_one_hot, y_one_hot))"
   ]
  },
  {
   "cell_type": "code",
   "execution_count": 28,
   "metadata": {
    "collapsed": false
   },
   "outputs": [],
   "source": [
    "with open('cifar-10-batches-py/batches.meta', 'rb') as f:\n",
    "    label_names = pickle.load(f, encoding='latin1')['label_names']"
   ]
  },
  {
   "cell_type": "code",
   "execution_count": 58,
   "metadata": {
    "collapsed": false
   },
   "outputs": [
    {
     "data": {
      "image/png": "[encoded data removed]",
      "text/plain": [
       "<matplotlib.figure.Figure at 0x7f6233f3be48>"
      ]
     },
     "metadata": {},
     "output_type": "display_data"
    },
    {
     "name": "stdout",
     "output_type": "stream",
     "text": [
      "5 dog\n",
      "[ 0.  0.  0.  0.  0.  1.  0.  0.  0.  0.]\n"
     ]
    }
   ],
   "source": [
    "image_num = 80010\n",
    "\n",
    "plt.imshow(x[image_num], interpolation=\"nearest\")\n",
    "plt.show()\n",
    "\n",
    "labels = np.concatenate((y_orig, y_orig))\n",
    "\n",
    "print(labels[image_num], label_names[labels[image_num]])\n",
    "print(y[image_num])"
   ]
  }
 ],
 "metadata": {
  "kernelspec": {
   "display_name": "Python 3",
   "language": "python",
   "name": "python3"
  },
  "language_info": {
   "codemirror_mode": {
    "name": "ipython",
    "version": 3
   },
   "file_extension": ".py",
   "mimetype": "text/x-python",
   "name": "python",
   "nbconvert_exporter": "python",
   "pygments_lexer": "ipython3",
   "version": "3.6.0"
  }
 },
 "nbformat": 4,
 "nbformat_minor": 2
}
