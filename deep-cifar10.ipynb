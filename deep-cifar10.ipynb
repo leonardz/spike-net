{
 "cells": [
  {
   "cell_type": "code",
   "execution_count": 1,
   "metadata": {
    "collapsed": true
   },
   "outputs": [],
   "source": [
    "import tensorflow as tf\n",
    "import matplotlib.pyplot as plt\n",
    "import numpy as np\n",
    "from batcher import Container\n",
    "import cifar10\n",
    "%matplotlib inline"
   ]
  },
  {
   "cell_type": "code",
   "execution_count": 2,
   "metadata": {
    "collapsed": false
   },
   "outputs": [],
   "source": [
    "ims, labels = cifar10.get_train_data()\n",
    "images = Container(ims, labels)"
   ]
  },
  {
   "cell_type": "code",
   "execution_count": null,
   "metadata": {
    "collapsed": true
   },
   "outputs": [],
   "source": [
    "test_x, test_y = cifar10.get_test_data()"
   ]
  },
  {
   "cell_type": "code",
   "execution_count": 3,
   "metadata": {
    "collapsed": true
   },
   "outputs": [],
   "source": [
    "sess = tf.InteractiveSession()"
   ]
  },
  {
   "cell_type": "code",
   "execution_count": 4,
   "metadata": {
    "collapsed": true
   },
   "outputs": [],
   "source": [
    "channels = 3"
   ]
  },
  {
   "cell_type": "code",
   "execution_count": 5,
   "metadata": {
    "collapsed": true
   },
   "outputs": [],
   "source": [
    "def weight_variable(shape):\n",
    "    initial = tf.truncated_normal(shape, stddev=0.1)\n",
    "    return tf.Variable(initial)\n",
    "\n",
    "def bias_variable(shape):\n",
    "    initial = tf.constant(0.1, shape=shape)\n",
    "    return tf.Variable(initial)"
   ]
  },
  {
   "cell_type": "code",
   "execution_count": 6,
   "metadata": {
    "collapsed": true
   },
   "outputs": [],
   "source": [
    "def conv2d(x, W):\n",
    "    return tf.nn.conv2d(x, W, strides=[1, 1, 1, 1], padding='SAME')\n",
    "\n",
    "def max_pool_3x3(x):\n",
    "    return tf.nn.max_pool(x, ksize=[1, 3, 3, 1], strides=[1, 2, 2, 1], padding='SAME')"
   ]
  },
  {
   "cell_type": "code",
   "execution_count": 7,
   "metadata": {
    "collapsed": true
   },
   "outputs": [],
   "source": [
    "x = tf.placeholder(tf.float32, shape=[None, 32, 32, 3])\n",
    "y_ = tf.placeholder(tf.float32, shape=[None, 10])"
   ]
  },
  {
   "cell_type": "code",
   "execution_count": 18,
   "metadata": {
    "collapsed": false
   },
   "outputs": [],
   "source": [
    "conv1_filters = 96\n",
    "\n",
    "W_conv1 = weight_variable([5, 5, channels, conv1_filters])\n",
    "b_conv1 = bias_variable([conv1_filters])\n",
    "\n",
    "h_conv1 = tf.nn.relu(conv2d(x, W_conv1) + b_conv1)\n",
    "h_pool1 = max_pool_3x3(h_conv1)"
   ]
  },
  {
   "cell_type": "code",
   "execution_count": 19,
   "metadata": {
    "collapsed": false
   },
   "outputs": [],
   "source": [
    "conv2_filters = 128\n",
    "\n",
    "W_conv2 = weight_variable([5, 5, channels, conv2_filters])\n",
    "b_conv2 = bias_variable([conv2_filters])\n",
    "\n",
    "h_conv2 = tf.nn.relu(conv2d(x, W_conv2) + b_conv2)\n",
    "h_pool2 = max_pool_3x3(h_conv2)"
   ]
  },
  {
   "cell_type": "code",
   "execution_count": 20,
   "metadata": {
    "collapsed": false
   },
   "outputs": [],
   "source": [
    "conv3_filters = 256\n",
    "\n",
    "W_conv3 = weight_variable([5, 5, channels, conv3_filters])\n",
    "b_conv3 = bias_variable([conv3_filters])\n",
    "\n",
    "h_conv3 = tf.nn.relu(conv2d(x, W_conv3) + b_conv3)\n",
    "h_pool3 = max_pool_3x3(h_conv3)"
   ]
  },
  {
   "cell_type": "code",
   "execution_count": 21,
   "metadata": {
    "collapsed": true
   },
   "outputs": [],
   "source": [
    "fc_units = 2048"
   ]
  },
  {
   "cell_type": "code",
   "execution_count": 22,
   "metadata": {
    "collapsed": true
   },
   "outputs": [],
   "source": [
    "W_fc1 = weight_variable([16 * 16 * conv3_filters, fc_units])\n",
    "b_fc1 = bias_variable([fc_units])\n",
    "\n",
    "h_pool3_flat = tf.reshape(h_pool3, [-1, 16 * 16 * conv3_filters])\n",
    "h_fc1 = tf.nn.relu(tf.matmul(h_pool3_flat, W_fc1) + b_fc1)"
   ]
  },
  {
   "cell_type": "code",
   "execution_count": 23,
   "metadata": {
    "collapsed": true
   },
   "outputs": [],
   "source": [
    "W_fc2 = weight_variable([fc_units, fc_units])\n",
    "b_fc2 = bias_variable([fc_units])\n",
    "\n",
    "h_fc2 = tf.nn.relu(tf.matmul(h_fc1, W_fc2) + b_fc2)"
   ]
  },
  {
   "cell_type": "code",
   "execution_count": 24,
   "metadata": {
    "collapsed": true
   },
   "outputs": [],
   "source": [
    "W_logit = weight_variable([fc_units, 10])\n",
    "b_logit = bias_variable([10])\n",
    "\n",
    "y_conv = tf.matmul(h_fc2, W_logit) + b_logit"
   ]
  },
  {
   "cell_type": "code",
   "execution_count": null,
   "metadata": {
    "collapsed": false
   },
   "outputs": [
    {
     "name": "stdout",
     "output_type": "stream",
     "text": [
      "step 0, training accuracy 0.11\n",
      "step 100, training accuracy 0.37\n",
      "step 200, training accuracy 0.45\n",
      "step 300, training accuracy 0.432\n",
      "step 400, training accuracy 0.476\n",
      "step 500, training accuracy 0.474\n",
      "step 600, training accuracy 0.576\n",
      "step 700, training accuracy 0.574\n",
      "step 800, training accuracy 0.588\n",
      "step 900, training accuracy 0.566\n",
      "step 1000, training accuracy 0.594\n",
      "step 1100, training accuracy 0.61\n",
      "step 1200, training accuracy 0.586\n",
      "step 1300, training accuracy 0.662\n",
      "step 1400, training accuracy 0.642\n",
      "step 1500, training accuracy 0.674\n",
      "step 1600, training accuracy 0.674\n",
      "step 1700, training accuracy 0.668\n",
      "step 1800, training accuracy 0.714\n",
      "step 1900, training accuracy 0.73\n",
      "step 2000, training accuracy 0.696\n",
      "step 2100, training accuracy 0.68\n",
      "step 2200, training accuracy 0.704\n",
      "step 2300, training accuracy 0.768\n",
      "step 2400, training accuracy 0.746\n",
      "step 2500, training accuracy 0.758\n",
      "step 2600, training accuracy 0.734\n",
      "step 2700, training accuracy 0.756\n",
      "step 2800, training accuracy 0.77\n",
      "step 2900, training accuracy 0.804\n",
      "step 3000, training accuracy 0.802\n",
      "step 3100, training accuracy 0.798\n",
      "step 3200, training accuracy 0.78\n",
      "step 3300, training accuracy 0.802\n",
      "step 3400, training accuracy 0.784\n",
      "step 3500, training accuracy 0.822\n",
      "step 3600, training accuracy 0.838\n",
      "step 3700, training accuracy 0.836\n",
      "step 3800, training accuracy 0.822\n",
      "step 3900, training accuracy 0.864\n",
      "step 4000, training accuracy 0.842\n",
      "step 4100, training accuracy 0.906\n",
      "step 4200, training accuracy 0.858\n",
      "step 4300, training accuracy 0.89\n",
      "step 4400, training accuracy 0.866\n",
      "step 4500, training accuracy 0.894\n",
      "step 4600, training accuracy 0.86\n",
      "step 4700, training accuracy 0.924\n",
      "step 4800, training accuracy 0.866\n",
      "step 4900, training accuracy 0.898\n",
      "step 5000, training accuracy 0.87\n",
      "step 5100, training accuracy 0.91\n",
      "step 5200, training accuracy 0.922\n",
      "step 5300, training accuracy 0.888\n",
      "step 5400, training accuracy 0.922\n",
      "step 5500, training accuracy 0.908\n",
      "step 5600, training accuracy 0.908\n",
      "step 5700, training accuracy 0.93\n",
      "step 5800, training accuracy 0.936\n",
      "step 5900, training accuracy 0.94\n",
      "step 6000, training accuracy 0.914\n",
      "step 6100, training accuracy 0.91\n",
      "step 6200, training accuracy 0.914\n",
      "step 6300, training accuracy 0.944\n",
      "step 6400, training accuracy 0.942\n",
      "step 6500, training accuracy 0.918\n",
      "step 6600, training accuracy 0.926\n",
      "step 6700, training accuracy 0.886\n",
      "step 6800, training accuracy 0.942\n",
      "step 6900, training accuracy 0.902\n",
      "step 7000, training accuracy 0.904\n",
      "step 7100, training accuracy 0.944\n",
      "step 7200, training accuracy 0.922\n",
      "step 7300, training accuracy 0.962\n",
      "step 7400, training accuracy 0.932\n",
      "step 7500, training accuracy 0.92\n",
      "step 7600, training accuracy 0.918\n",
      "step 7700, training accuracy 0.948\n",
      "step 7800, training accuracy 0.928\n",
      "step 7900, training accuracy 0.954\n",
      "step 8000, training accuracy 0.952\n",
      "step 8100, training accuracy 0.942\n",
      "step 8200, training accuracy 0.922\n",
      "step 8300, training accuracy 0.93\n",
      "step 8400, training accuracy 0.936\n",
      "step 8500, training accuracy 0.958\n",
      "step 8600, training accuracy 0.946\n",
      "step 8700, training accuracy 0.922\n",
      "step 8800, training accuracy 0.928\n",
      "step 8900, training accuracy 0.918\n",
      "step 9000, training accuracy 0.928\n",
      "step 9100, training accuracy 0.912\n",
      "step 9200, training accuracy 0.934\n",
      "step 9300, training accuracy 0.954\n",
      "step 9400, training accuracy 0.972\n"
     ]
    }
   ],
   "source": [
    "cross_entropy = tf.reduce_mean(tf.nn.softmax_cross_entropy_with_logits(labels=y_, logits=y_conv))\n",
    "train_step = tf.train.AdamOptimizer(1e-4).minimize(cross_entropy)\n",
    "correct_prediction = tf.equal(tf.argmax(y_conv,1), tf.argmax(y_,1))\n",
    "accuracy = tf.reduce_mean(tf.cast(correct_prediction, tf.float32))\n",
    "sess.run(tf.global_variables_initializer())\n",
    "\n",
    "for i in range(20000):\n",
    "    batch_x, batch_y = images.next_batch(500)\n",
    "    if i%100 == 0:\n",
    "        train_accuracy = accuracy.eval(feed_dict={x:batch_x, y_: batch_y})\n",
    "        print(\"step %d, training accuracy %g\"%(i, train_accuracy))\n",
    "    train_step.run(feed_dict={x: batch_x, y_: batch_y})\n",
    "\n",
    "print(\"test accuracy %g\"%accuracy.eval(feed_dict={\n",
    "    x: test_x, y_: test_y}))"
   ]
  },
  {
   "cell_type": "code",
   "execution_count": null,
   "metadata": {
    "collapsed": true
   },
   "outputs": [],
   "source": []
  }
 ],
 "metadata": {
  "kernelspec": {
   "display_name": "Python 3",
   "language": "python",
   "name": "python3"
  },
  "language_info": {
   "codemirror_mode": {
    "name": "ipython",
    "version": 3
   },
   "file_extension": ".py",
   "mimetype": "text/x-python",
   "name": "python",
   "nbconvert_exporter": "python",
   "pygments_lexer": "ipython3",
   "version": "3.6.0"
  }
 },
 "nbformat": 4,
 "nbformat_minor": 2
}
