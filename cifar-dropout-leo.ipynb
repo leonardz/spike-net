{
 "cells": [
  {
   "cell_type": "code",
   "execution_count": 1,
   "metadata": {
    "collapsed": false
   },
   "outputs": [],
   "source": [
    "import tensorflow as tf\n",
    "from tensorflow.python.framework import ops\n",
    "import tflearn\n",
    "import poisson_extensions\n",
    "poisson_extensions.register_poisson_gradient(tf, ops)"
   ]
  },
  {
   "cell_type": "code",
   "execution_count": 2,
   "metadata": {
    "collapsed": true
   },
   "outputs": [],
   "source": [
    "from tflearn.data_utils import shuffle, to_categorical\n",
    "from tflearn.layers.core import input_data, dropout, fully_connected\n",
    "from tflearn.layers.conv import conv_2d, max_pool_2d\n",
    "from tflearn.layers.estimator import regression\n",
    "from tflearn.data_preprocessing import ImagePreprocessing\n",
    "from tflearn.data_augmentation import ImageAugmentation"
   ]
  },
  {
   "cell_type": "code",
   "execution_count": 3,
   "metadata": {
    "collapsed": true
   },
   "outputs": [],
   "source": [
    "# Data loading and preprocessing\n",
    "from tflearn.datasets import cifar10\n",
    "(X, Y), (X_test, Y_test) = cifar10.load_data()\n",
    "X, Y = shuffle(X, Y)\n",
    "Y = to_categorical(Y, 10)\n",
    "Y_test = to_categorical(Y_test, 10)"
   ]
  },
  {
   "cell_type": "code",
   "execution_count": 4,
   "metadata": {
    "collapsed": true
   },
   "outputs": [],
   "source": [
    "# Real-time data preprocessing\n",
    "img_prep = ImagePreprocessing()\n",
    "img_prep.add_featurewise_zero_center()\n",
    "img_prep.add_featurewise_stdnorm()\n",
    "\n",
    "# Real-time data augmentation\n",
    "img_aug = ImageAugmentation()\n",
    "img_aug.add_random_flip_leftright()\n",
    "img_aug.add_random_rotation(max_angle=25.)"
   ]
  },
  {
   "cell_type": "code",
   "execution_count": 5,
   "metadata": {
    "collapsed": false
   },
   "outputs": [],
   "source": [
    "# Convolutional network building, this dropout model achieves .8 accuracy, same for poisson used in final 2 layers\n",
    "inputs = input_data(shape=[None, 32, 32, 3],\n",
    "                     data_preprocessing=img_prep,\n",
    "                     data_augmentation=img_aug)\n",
    "conv1 = conv_2d(inputs, 32, 3, activation='leaky_relu')\n",
    "conv1 = conv_2d(inputs, 32, 3, activation='leaky_relu')\n",
    "pool1 = max_pool_2d(conv1, 2)\n",
    "spike1 = dropout(pool1, .8)\n",
    "# spike1 = tf.random_poisson(pool1, [])\n",
    "after1 = tf.identity(spike1)\n",
    "conv2 = conv_2d(after1, 64, 3, activation='leaky_relu')\n",
    "conv2 = conv_2d(conv2, 64, 3, activation='leaky_relu')\n",
    "pool2 = max_pool_2d(conv2, 2)\n",
    "spike2 = dropout(pool2, .7)\n",
    "# spike2 = tf.random_poisson(pool2, [])\n",
    "after2 = tf.identity(spike2)\n",
    "conv3 = conv_2d(after2, 128, 3, activation='leaky_relu')\n",
    "conv3 = conv_2d(conv3, 128, 3, activation='leaky_relu')\n",
    "pool3 = max_pool_2d(conv3, 2)\n",
    "spike3 = dropout(pool3, 0.6)\n",
    "# spike3 = tf.random_poisson(pool3, [])\n",
    "after3 = tf.identity(spike3)\n",
    "fc1 = fully_connected(after3, 512, activation='relu')\n",
    "spike4 = dropout(fc1, 0.5)\n",
    "# spike4 = tf.random_poisson(fc1, [])\n",
    "after4 = tf.identity(spike4)\n",
    "fc2 = fully_connected(after4, 10, activation='softmax')\n",
    "net = regression(fc2, optimizer='adam',\n",
    "                     loss='categorical_crossentropy',\n",
    "                     learning_rate=0.001)"
   ]
  },
  {
   "cell_type": "code",
   "execution_count": 6,
   "metadata": {
    "collapsed": false
   },
   "outputs": [],
   "source": [
    "model = tflearn.DNN(net, tensorboard_verbose=0)"
   ]
  },
  {
   "cell_type": "code",
   "execution_count": null,
   "metadata": {
    "collapsed": false
   },
   "outputs": [
    {
     "name": "stdout",
     "output_type": "stream",
     "text": [
      "Training Step: 2549  | total loss: \u001b[1m\u001b[32m0.96314\u001b[0m\u001b[0m | time: 16.397s\n",
      "\u001b[2K\r",
      "| Adam | epoch: 005 | loss: 0.96314 - acc: 0.6660 -- iter: 44640/50000\n"
     ]
    }
   ],
   "source": [
    "model.fit(X, Y, n_epoch=26, shuffle=True, validation_set=(X_test, Y_test),\n",
    "          show_metric=True, batch_size=96, run_id='cifar10_cnn')"
   ]
  },
  {
   "cell_type": "code",
   "execution_count": 20,
   "metadata": {
    "collapsed": false
   },
   "outputs": [
    {
     "data": {
      "text/plain": [
       "[0.81330000000000002]"
      ]
     },
     "execution_count": 20,
     "metadata": {},
     "output_type": "execute_result"
    }
   ],
   "source": [
    "model.evaluate(X_test, Y_test)"
   ]
  }
 ],
 "metadata": {
  "kernelspec": {
   "display_name": "Python 3",
   "language": "python",
   "name": "python3"
  },
  "language_info": {
   "codemirror_mode": {
    "name": "ipython",
    "version": 3
   },
   "file_extension": ".py",
   "mimetype": "text/x-python",
   "name": "python",
   "nbconvert_exporter": "python",
   "pygments_lexer": "ipython3",
   "version": "3.6.0"
  }
 },
 "nbformat": 4,
 "nbformat_minor": 2
}
