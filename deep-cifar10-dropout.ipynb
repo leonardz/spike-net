{
 "cells": [
  {
   "cell_type": "code",
   "execution_count": 1,
   "metadata": {
    "collapsed": true
   },
   "outputs": [],
   "source": [
    "import tensorflow as tf\n",
    "import matplotlib.pyplot as plt\n",
    "import numpy as np\n",
    "from batcher import Container\n",
    "import cifar10\n",
    "%matplotlib inline"
   ]
  },
  {
   "cell_type": "code",
   "execution_count": 2,
   "metadata": {
    "collapsed": false
   },
   "outputs": [],
   "source": [
    "ims, labels = cifar10.get_train_data()\n",
    "images = Container(ims, labels)"
   ]
  },
  {
   "cell_type": "code",
   "execution_count": 3,
   "metadata": {
    "collapsed": true
   },
   "outputs": [],
   "source": [
    "test_x, test_y = cifar10.get_test_data()"
   ]
  },
  {
   "cell_type": "code",
   "execution_count": 4,
   "metadata": {
    "collapsed": true
   },
   "outputs": [],
   "source": [
    "sess = tf.InteractiveSession()"
   ]
  },
  {
   "cell_type": "code",
   "execution_count": 5,
   "metadata": {
    "collapsed": true
   },
   "outputs": [],
   "source": [
    "channels = 3"
   ]
  },
  {
   "cell_type": "code",
   "execution_count": 6,
   "metadata": {
    "collapsed": true
   },
   "outputs": [],
   "source": [
    "def weight_variable(shape):\n",
    "    initial = tf.truncated_normal(shape, stddev=0.1)\n",
    "    return tf.Variable(initial)\n",
    "\n",
    "def bias_variable(shape):\n",
    "    initial = tf.constant(0.1, shape=shape)\n",
    "    return tf.Variable(initial)"
   ]
  },
  {
   "cell_type": "code",
   "execution_count": 7,
   "metadata": {
    "collapsed": true
   },
   "outputs": [],
   "source": [
    "def conv2d(x, W):\n",
    "    return tf.nn.conv2d(x, W, strides=[1, 1, 1, 1], padding='SAME')\n",
    "\n",
    "def max_pool_3x3(x):\n",
    "    return tf.nn.max_pool(x, ksize=[1, 3, 3, 1], strides=[1, 2, 2, 1], padding='SAME')"
   ]
  },
  {
   "cell_type": "code",
   "execution_count": 8,
   "metadata": {
    "collapsed": true
   },
   "outputs": [],
   "source": [
    "x = tf.placeholder(tf.float32, shape=[None, 32, 32, 3])\n",
    "x_p = tf.placeholder(tf.float32)\n",
    "x_drop = tf.nn.dropout(x, x_p)\n",
    "\n",
    "y_ = tf.placeholder(tf.float32, shape=[None, 10])"
   ]
  },
  {
   "cell_type": "code",
   "execution_count": 9,
   "metadata": {
    "collapsed": false
   },
   "outputs": [],
   "source": [
    "conv1_filters = 96\n",
    "\n",
    "W_conv1 = weight_variable([5, 5, channels, conv1_filters])\n",
    "b_conv1 = bias_variable([conv1_filters])\n",
    "\n",
    "h_conv1 = tf.nn.relu(conv2d(x_drop, W_conv1) + b_conv1)\n",
    "h_pool1 = max_pool_3x3(h_conv1)\n",
    "\n",
    "pool1_p = tf.placeholder(tf.float32)\n",
    "h_pool1_drop = tf.nn.dropout(h_pool1, pool1_p)"
   ]
  },
  {
   "cell_type": "code",
   "execution_count": 10,
   "metadata": {
    "collapsed": false
   },
   "outputs": [],
   "source": [
    "conv2_filters = 128\n",
    "\n",
    "W_conv2 = weight_variable([5, 5, conv1_filters, conv2_filters])\n",
    "b_conv2 = bias_variable([conv2_filters])\n",
    "\n",
    "h_conv2 = tf.nn.relu(conv2d(h_pool1_drop, W_conv2) + b_conv2)\n",
    "h_pool2 = max_pool_3x3(h_conv2)\n",
    "\n",
    "pool2_p = tf.placeholder(tf.float32)\n",
    "h_pool2_drop = tf.nn.dropout(h_pool2, pool2_p)"
   ]
  },
  {
   "cell_type": "code",
   "execution_count": 11,
   "metadata": {
    "collapsed": false
   },
   "outputs": [],
   "source": [
    "conv3_filters = 256\n",
    "\n",
    "W_conv3 = weight_variable([5, 5, conv2_filters, conv3_filters])\n",
    "b_conv3 = bias_variable([conv3_filters])\n",
    "\n",
    "h_conv3 = tf.nn.relu(conv2d(h_pool2_drop, W_conv3) + b_conv3)\n",
    "h_pool3 = max_pool_3x3(h_conv3)\n",
    "\n",
    "pool3_p = tf.placeholder(tf.float32)\n",
    "h_pool3_drop = tf.nn.dropout(h_pool3, pool3_p)"
   ]
  },
  {
   "cell_type": "code",
   "execution_count": 12,
   "metadata": {
    "collapsed": true
   },
   "outputs": [],
   "source": [
    "fc_units = 2048"
   ]
  },
  {
   "cell_type": "code",
   "execution_count": 13,
   "metadata": {
    "collapsed": false
   },
   "outputs": [],
   "source": [
    "W_fc1 = weight_variable([4 * 4 * conv3_filters, fc_units])\n",
    "b_fc1 = bias_variable([fc_units])\n",
    "\n",
    "h_pool3_flat = tf.reshape(h_pool3_drop, [-1, 4 * 4 * conv3_filters])\n",
    "h_fc1 = tf.nn.relu(tf.matmul(h_pool3_flat, W_fc1) + b_fc1)\n",
    "\n",
    "fc1_p = tf.placeholder(tf.float32)\n",
    "h_fc1_drop = tf.nn.dropout(h_fc1, fc1_p)"
   ]
  },
  {
   "cell_type": "code",
   "execution_count": 14,
   "metadata": {
    "collapsed": true
   },
   "outputs": [],
   "source": [
    "W_fc2 = weight_variable([fc_units, fc_units])\n",
    "b_fc2 = bias_variable([fc_units])\n",
    "\n",
    "h_fc2 = tf.nn.relu(tf.matmul(h_fc1_drop, W_fc2) + b_fc2)\n",
    "\n",
    "fc2_p = tf.placeholder(tf.float32)\n",
    "h_fc2_drop = tf.nn.dropout(h_fc2, fc2_p)"
   ]
  },
  {
   "cell_type": "code",
   "execution_count": 15,
   "metadata": {
    "collapsed": true
   },
   "outputs": [],
   "source": [
    "W_logit = weight_variable([fc_units, 10])\n",
    "b_logit = bias_variable([10])\n",
    "\n",
    "y_conv = tf.matmul(h_fc2_drop, W_logit) + b_logit"
   ]
  },
  {
   "cell_type": "code",
   "execution_count": null,
   "metadata": {
    "collapsed": false
   },
   "outputs": [
    {
     "name": "stdout",
     "output_type": "stream",
     "text": [
      "step 0, training accuracy 0.11\n",
      "step 100, training accuracy 0.174\n",
      "step 200, training accuracy 0.15\n",
      "step 300, training accuracy 0.178\n",
      "step 400, training accuracy 0.174\n",
      "step 500, training accuracy 0.132\n",
      "step 600, training accuracy 0.104\n",
      "step 700, training accuracy 0.09\n"
     ]
    }
   ],
   "source": [
    "cross_entropy = tf.reduce_mean(tf.nn.softmax_cross_entropy_with_logits(labels=y_, logits=y_conv))\n",
    "train_step = tf.train.AdamOptimizer(1e-4).minimize(cross_entropy)\n",
    "correct_prediction = tf.equal(tf.argmax(y_conv,1), tf.argmax(y_,1))\n",
    "accuracy = tf.reduce_mean(tf.cast(correct_prediction, tf.float32))\n",
    "sess.run(tf.global_variables_initializer())\n",
    "\n",
    "for i in range(20000):\n",
    "    batch_x, batch_y = images.next_batch(500)\n",
    "    if i%100 == 0:\n",
    "        train_accuracy = accuracy.eval(\n",
    "            feed_dict={\n",
    "                x: batch_x, \n",
    "                y_: batch_y,\n",
    "                x_p: 1.,\n",
    "                pool1_p: 1.,\n",
    "                pool2_p: 1.,\n",
    "                pool3_p: 1.,\n",
    "                fc1_p: 1.,\n",
    "                fc2_p: 1.\n",
    "            }\n",
    "        )\n",
    "        print(\"step %d, training accuracy %g\"%(i, train_accuracy))\n",
    "    train_step.run(\n",
    "        feed_dict={\n",
    "            x: batch_x, \n",
    "            y_: batch_y,\n",
    "            x_p: 0.9,\n",
    "            pool1_p: 0.75,\n",
    "            pool2_p: 0.75,\n",
    "            pool3_p: 0.5,\n",
    "            fc1_p: 0.5,\n",
    "            fc2_p: 0.5\n",
    "        }\n",
    "    )"
   ]
  },
  {
   "cell_type": "code",
   "execution_count": null,
   "metadata": {
    "collapsed": false
   },
   "outputs": [],
   "source": [
    "chunk_size = 500\n",
    "\n",
    "chunk_accuracies = [\n",
    "    accuracy.eval(\n",
    "        feed_dict={\n",
    "            x: test_x[start:start+chunk_size], \n",
    "            y_: test_y[start:start+chunk_size],\n",
    "            x_p: 1.,\n",
    "            pool1_p: 1.,\n",
    "            pool2_p: 1.,\n",
    "            pool3_p: 1.,\n",
    "            fc1_p: 1.,\n",
    "            fc2_p: 1.\n",
    "        }\n",
    "    )\n",
    "    for start in range(0,len(test_y),chunk_size)\n",
    "]\n",
    "\n",
    "acc = np.mean(chunk_accuracies)\n",
    "\n",
    "print(\"test accuracy %g\"%acc)"
   ]
  }
 ],
 "metadata": {
  "kernelspec": {
   "display_name": "Python 3",
   "language": "python",
   "name": "python3"
  },
  "language_info": {
   "codemirror_mode": {
    "name": "ipython",
    "version": 3
   },
   "file_extension": ".py",
   "mimetype": "text/x-python",
   "name": "python",
   "nbconvert_exporter": "python",
   "pygments_lexer": "ipython3",
   "version": "3.6.0"
  }
 },
 "nbformat": 4,
 "nbformat_minor": 2
}
